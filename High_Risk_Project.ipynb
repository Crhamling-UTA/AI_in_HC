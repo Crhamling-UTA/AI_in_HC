{
 "cells": [
  {
   "cell_type": "markdown",
   "metadata": {},
   "source": [
    "# Connect to Local GraphDB Environment "
   ]
  },
  {
   "cell_type": "code",
   "execution_count": 120,
   "metadata": {
    "colab": {
     "base_uri": "https://localhost:8080/"
    },
    "collapsed": true,
    "id": "Rg21CM2FUcAb",
    "jupyter": {
     "outputs_hidden": true
    },
    "outputId": "a66ab4c7-e744-4eff-dbbc-b6c8e5145065",
    "tags": []
   },
   "outputs": [
    {
     "name": "stdout",
     "output_type": "stream",
     "text": [
      "Requirement already satisfied: typing-inspect==0.8.0 in c:\\users\\chris\\anaconda3\\lib\\site-packages (0.8.0)\n",
      "Collecting typing_extensions==4.5.0\n",
      "  Using cached typing_extensions-4.5.0-py3-none-any.whl (27 kB)\n",
      "Requirement already satisfied: mypy-extensions>=0.3.0 in c:\\users\\chris\\anaconda3\\lib\\site-packages (from typing-inspect==0.8.0) (0.4.3)\n",
      "Installing collected packages: typing_extensions\n",
      "  Attempting uninstall: typing_extensions\n",
      "    Found existing installation: typing_extensions 4.11.0\n",
      "    Uninstalling typing_extensions-4.11.0:\n",
      "      Successfully uninstalled typing_extensions-4.11.0\n",
      "Successfully installed typing_extensions-4.5.0\n"
     ]
    },
    {
     "name": "stderr",
     "output_type": "stream",
     "text": [
      "ERROR: pip's dependency resolver does not currently take into account all the packages that are installed. This behaviour is the source of the following dependency conflicts.\n",
      "pydantic-core 2.18.2 requires typing-extensions!=4.7.0,>=4.6.0, but you have typing-extensions 4.5.0 which is incompatible.\n",
      "openai 1.23.6 requires typing-extensions<5,>=4.7, but you have typing-extensions 4.5.0 which is incompatible.\n",
      "langflow 0.0.68 requires langchain<0.1.0,>=0.0.150, but you have langchain 0.1.16 which is incompatible.\n",
      "langflow 0.0.68 requires openai<0.28.0,>=0.27.2, but you have openai 1.23.6 which is incompatible.\n",
      "langflow 0.0.68 requires tiktoken<0.4.0,>=0.3.3, but you have tiktoken 0.6.0 which is incompatible.\n"
     ]
    },
    {
     "name": "stdout",
     "output_type": "stream",
     "text": [
      "Requirement already satisfied: pydantic in c:\\users\\chris\\anaconda3\\lib\\site-packages (1.10.11)\n",
      "Collecting pydantic\n",
      "  Using cached pydantic-2.7.1-py3-none-any.whl (409 kB)\n",
      "Collecting typing-extensions>=4.6.1\n",
      "  Using cached typing_extensions-4.11.0-py3-none-any.whl (34 kB)\n",
      "Requirement already satisfied: pydantic-core==2.18.2 in c:\\users\\chris\\anaconda3\\lib\\site-packages (from pydantic) (2.18.2)\n",
      "Requirement already satisfied: annotated-types>=0.4.0 in c:\\users\\chris\\anaconda3\\lib\\site-packages (from pydantic) (0.6.0)\n",
      "Installing collected packages: typing-extensions, pydantic\n",
      "  Attempting uninstall: typing-extensions\n",
      "    Found existing installation: typing_extensions 4.5.0\n",
      "    Uninstalling typing_extensions-4.5.0:\n",
      "      Successfully uninstalled typing_extensions-4.5.0\n",
      "  Attempting uninstall: pydantic\n",
      "    Found existing installation: pydantic 1.10.11\n",
      "    Uninstalling pydantic-1.10.11:\n",
      "      Successfully uninstalled pydantic-1.10.11\n"
     ]
    },
    {
     "name": "stderr",
     "output_type": "stream",
     "text": [
      "ERROR: Could not install packages due to an OSError: [WinError 5] Access is denied: 'C:\\\\Users\\\\Chris\\\\anaconda3\\\\Lib\\\\site-packages\\\\~-dantic\\\\annotated_types.cp39-win_amd64.pyd'\n",
      "Consider using the `--user` option or check the permissions.\n",
      "\n"
     ]
    },
    {
     "name": "stdout",
     "output_type": "stream",
     "text": [
      "Collecting pydantic==1.10.11\n",
      "  Using cached pydantic-1.10.11-cp39-cp39-win_amd64.whl (2.2 MB)\n",
      "Requirement already satisfied: typing-extensions>=4.2.0 in c:\\users\\chris\\anaconda3\\lib\\site-packages (from pydantic==1.10.11) (4.11.0)\n",
      "Installing collected packages: pydantic\n",
      "  Attempting uninstall: pydantic\n",
      "    Found existing installation: pydantic 2.7.1\n",
      "    Uninstalling pydantic-2.7.1:\n",
      "      Successfully uninstalled pydantic-2.7.1\n",
      "Successfully installed pydantic-1.10.11\n"
     ]
    },
    {
     "name": "stderr",
     "output_type": "stream",
     "text": [
      "ERROR: pip's dependency resolver does not currently take into account all the packages that are installed. This behaviour is the source of the following dependency conflicts.\n",
      "langflow 0.0.68 requires langchain<0.1.0,>=0.0.150, but you have langchain 0.1.16 which is incompatible.\n",
      "langflow 0.0.68 requires openai<0.28.0,>=0.27.2, but you have openai 1.23.6 which is incompatible.\n",
      "langflow 0.0.68 requires tiktoken<0.4.0,>=0.3.3, but you have tiktoken 0.6.0 which is incompatible.\n"
     ]
    },
    {
     "name": "stdout",
     "output_type": "stream",
     "text": [
      "Requirement already satisfied: langchain in c:\\users\\chris\\anaconda3\\lib\\site-packages (0.1.16)\n",
      "Requirement already satisfied: dataclasses-json<0.7,>=0.5.7 in c:\\users\\chris\\anaconda3\\lib\\site-packages (from langchain) (0.5.7)\n",
      "Requirement already satisfied: async-timeout<5.0.0,>=4.0.0 in c:\\users\\chris\\anaconda3\\lib\\site-packages (from langchain) (4.0.2)\n",
      "Requirement already satisfied: pydantic<3,>=1 in c:\\users\\chris\\anaconda3\\lib\\site-packages (from langchain) (1.10.11)\n",
      "Requirement already satisfied: PyYAML>=5.3 in c:\\users\\chris\\anaconda3\\lib\\site-packages (from langchain) (6.0)\n",
      "Requirement already satisfied: numpy<2,>=1 in c:\\users\\chris\\anaconda3\\lib\\site-packages (from langchain) (1.23.5)\n",
      "Requirement already satisfied: tenacity<9.0.0,>=8.1.0 in c:\\users\\chris\\anaconda3\\lib\\site-packages (from langchain) (8.2.2)\n",
      "Requirement already satisfied: langchain-text-splitters<0.1,>=0.0.1 in c:\\users\\chris\\anaconda3\\lib\\site-packages (from langchain) (0.0.1)\n",
      "Requirement already satisfied: jsonpatch<2.0,>=1.33 in c:\\users\\chris\\anaconda3\\lib\\site-packages (from langchain) (1.33)\n",
      "Requirement already satisfied: aiohttp<4.0.0,>=3.8.3 in c:\\users\\chris\\anaconda3\\lib\\site-packages (from langchain) (3.8.4)\n",
      "Requirement already satisfied: SQLAlchemy<3,>=1.4 in c:\\users\\chris\\anaconda3\\lib\\site-packages (from langchain) (1.4.39)\n",
      "Requirement already satisfied: langchain-community<0.1,>=0.0.32 in c:\\users\\chris\\anaconda3\\lib\\site-packages (from langchain) (0.0.34)\n",
      "Requirement already satisfied: langchain-core<0.2.0,>=0.1.42 in c:\\users\\chris\\anaconda3\\lib\\site-packages (from langchain) (0.1.46)\n",
      "Requirement already satisfied: requests<3,>=2 in c:\\users\\chris\\anaconda3\\lib\\site-packages (from langchain) (2.29.0)\n",
      "Requirement already satisfied: langsmith<0.2.0,>=0.1.17 in c:\\users\\chris\\anaconda3\\lib\\site-packages (from langchain) (0.1.50)\n",
      "Requirement already satisfied: charset-normalizer<4.0,>=2.0 in c:\\users\\chris\\anaconda3\\lib\\site-packages (from aiohttp<4.0.0,>=3.8.3->langchain) (2.0.4)\n",
      "Requirement already satisfied: yarl<2.0,>=1.0 in c:\\users\\chris\\anaconda3\\lib\\site-packages (from aiohttp<4.0.0,>=3.8.3->langchain) (1.9.2)\n",
      "Requirement already satisfied: frozenlist>=1.1.1 in c:\\users\\chris\\anaconda3\\lib\\site-packages (from aiohttp<4.0.0,>=3.8.3->langchain) (1.3.3)\n",
      "Requirement already satisfied: attrs>=17.3.0 in c:\\users\\chris\\anaconda3\\lib\\site-packages (from aiohttp<4.0.0,>=3.8.3->langchain) (22.1.0)\n",
      "Requirement already satisfied: aiosignal>=1.1.2 in c:\\users\\chris\\anaconda3\\lib\\site-packages (from aiohttp<4.0.0,>=3.8.3->langchain) (1.3.1)\n",
      "Requirement already satisfied: multidict<7.0,>=4.5 in c:\\users\\chris\\anaconda3\\lib\\site-packages (from aiohttp<4.0.0,>=3.8.3->langchain) (6.0.4)\n",
      "Requirement already satisfied: marshmallow<4.0.0,>=3.3.0 in c:\\users\\chris\\anaconda3\\lib\\site-packages (from dataclasses-json<0.7,>=0.5.7->langchain) (3.19.0)\n",
      "Requirement already satisfied: typing-inspect>=0.4.0 in c:\\users\\chris\\anaconda3\\lib\\site-packages (from dataclasses-json<0.7,>=0.5.7->langchain) (0.8.0)\n",
      "Requirement already satisfied: marshmallow-enum<2.0.0,>=1.5.1 in c:\\users\\chris\\anaconda3\\lib\\site-packages (from dataclasses-json<0.7,>=0.5.7->langchain) (1.5.1)\n",
      "Requirement already satisfied: jsonpointer>=1.9 in c:\\users\\chris\\anaconda3\\lib\\site-packages (from jsonpatch<2.0,>=1.33->langchain) (2.1)\n",
      "Requirement already satisfied: packaging<24.0,>=23.2 in c:\\users\\chris\\anaconda3\\lib\\site-packages (from langchain-core<0.2.0,>=0.1.42->langchain) (23.2)\n",
      "Requirement already satisfied: orjson<4.0.0,>=3.9.14 in c:\\users\\chris\\anaconda3\\lib\\site-packages (from langsmith<0.2.0,>=0.1.17->langchain) (3.10.1)\n",
      "Requirement already satisfied: typing-extensions>=4.2.0 in c:\\users\\chris\\anaconda3\\lib\\site-packages (from pydantic<3,>=1->langchain) (4.11.0)\n",
      "Requirement already satisfied: urllib3<1.27,>=1.21.1 in c:\\users\\chris\\anaconda3\\lib\\site-packages (from requests<3,>=2->langchain) (1.26.15)\n",
      "Requirement already satisfied: idna<4,>=2.5 in c:\\users\\chris\\anaconda3\\lib\\site-packages (from requests<3,>=2->langchain) (3.4)\n",
      "Requirement already satisfied: certifi>=2017.4.17 in c:\\users\\chris\\anaconda3\\lib\\site-packages (from requests<3,>=2->langchain) (2022.12.7)\n",
      "Requirement already satisfied: greenlet!=0.4.17 in c:\\users\\chris\\anaconda3\\lib\\site-packages (from SQLAlchemy<3,>=1.4->langchain) (2.0.1)\n",
      "Requirement already satisfied: mypy-extensions>=0.3.0 in c:\\users\\chris\\anaconda3\\lib\\site-packages (from typing-inspect>=0.4.0->dataclasses-json<0.7,>=0.5.7->langchain) (0.4.3)\n",
      "Requirement already satisfied: langchain-openai in c:\\users\\chris\\anaconda3\\lib\\site-packages (0.1.3)\n",
      "Collecting langchain-openai\n",
      "  Downloading langchain_openai-0.1.4-py3-none-any.whl (33 kB)\n",
      "Requirement already satisfied: langchain-core<0.2.0,>=0.1.46 in c:\\users\\chris\\anaconda3\\lib\\site-packages (from langchain-openai) (0.1.46)\n",
      "Requirement already satisfied: openai<2.0.0,>=1.10.0 in c:\\users\\chris\\anaconda3\\lib\\site-packages (from langchain-openai) (1.23.6)\n",
      "Requirement already satisfied: tiktoken<1,>=0.5.2 in c:\\users\\chris\\anaconda3\\lib\\site-packages (from langchain-openai) (0.6.0)\n",
      "Requirement already satisfied: pydantic<3,>=1 in c:\\users\\chris\\anaconda3\\lib\\site-packages (from langchain-core<0.2.0,>=0.1.46->langchain-openai) (1.10.11)\n",
      "Requirement already satisfied: langsmith<0.2.0,>=0.1.0 in c:\\users\\chris\\anaconda3\\lib\\site-packages (from langchain-core<0.2.0,>=0.1.46->langchain-openai) (0.1.50)\n",
      "Requirement already satisfied: jsonpatch<2.0,>=1.33 in c:\\users\\chris\\anaconda3\\lib\\site-packages (from langchain-core<0.2.0,>=0.1.46->langchain-openai) (1.33)\n",
      "Requirement already satisfied: PyYAML>=5.3 in c:\\users\\chris\\anaconda3\\lib\\site-packages (from langchain-core<0.2.0,>=0.1.46->langchain-openai) (6.0)\n",
      "Requirement already satisfied: packaging<24.0,>=23.2 in c:\\users\\chris\\anaconda3\\lib\\site-packages (from langchain-core<0.2.0,>=0.1.46->langchain-openai) (23.2)\n",
      "Requirement already satisfied: tenacity<9.0.0,>=8.1.0 in c:\\users\\chris\\anaconda3\\lib\\site-packages (from langchain-core<0.2.0,>=0.1.46->langchain-openai) (8.2.2)\n",
      "Requirement already satisfied: sniffio in c:\\users\\chris\\anaconda3\\lib\\site-packages (from openai<2.0.0,>=1.10.0->langchain-openai) (1.2.0)\n",
      "Requirement already satisfied: distro<2,>=1.7.0 in c:\\users\\chris\\anaconda3\\lib\\site-packages (from openai<2.0.0,>=1.10.0->langchain-openai) (1.9.0)\n",
      "Requirement already satisfied: httpx<1,>=0.23.0 in c:\\users\\chris\\anaconda3\\lib\\site-packages (from openai<2.0.0,>=1.10.0->langchain-openai) (0.23.3)\n",
      "Requirement already satisfied: typing-extensions<5,>=4.7 in c:\\users\\chris\\anaconda3\\lib\\site-packages (from openai<2.0.0,>=1.10.0->langchain-openai) (4.11.0)\n",
      "Requirement already satisfied: tqdm>4 in c:\\users\\chris\\anaconda3\\lib\\site-packages (from openai<2.0.0,>=1.10.0->langchain-openai) (4.65.0)\n",
      "Requirement already satisfied: anyio<5,>=3.5.0 in c:\\users\\chris\\anaconda3\\lib\\site-packages (from openai<2.0.0,>=1.10.0->langchain-openai) (3.5.0)\n",
      "Requirement already satisfied: regex>=2022.1.18 in c:\\users\\chris\\anaconda3\\lib\\site-packages (from tiktoken<1,>=0.5.2->langchain-openai) (2022.7.9)\n",
      "Requirement already satisfied: requests>=2.26.0 in c:\\users\\chris\\anaconda3\\lib\\site-packages (from tiktoken<1,>=0.5.2->langchain-openai) (2.29.0)\n",
      "Requirement already satisfied: idna>=2.8 in c:\\users\\chris\\anaconda3\\lib\\site-packages (from anyio<5,>=3.5.0->openai<2.0.0,>=1.10.0->langchain-openai) (3.4)\n",
      "Requirement already satisfied: certifi in c:\\users\\chris\\anaconda3\\lib\\site-packages (from httpx<1,>=0.23.0->openai<2.0.0,>=1.10.0->langchain-openai) (2022.12.7)\n",
      "Requirement already satisfied: httpcore<0.17.0,>=0.15.0 in c:\\users\\chris\\anaconda3\\lib\\site-packages (from httpx<1,>=0.23.0->openai<2.0.0,>=1.10.0->langchain-openai) (0.16.3)\n",
      "Requirement already satisfied: rfc3986[idna2008]<2,>=1.3 in c:\\users\\chris\\anaconda3\\lib\\site-packages (from httpx<1,>=0.23.0->openai<2.0.0,>=1.10.0->langchain-openai) (1.5.0)\n",
      "Requirement already satisfied: jsonpointer>=1.9 in c:\\users\\chris\\anaconda3\\lib\\site-packages (from jsonpatch<2.0,>=1.33->langchain-core<0.2.0,>=0.1.46->langchain-openai) (2.1)\n",
      "Requirement already satisfied: orjson<4.0.0,>=3.9.14 in c:\\users\\chris\\anaconda3\\lib\\site-packages (from langsmith<0.2.0,>=0.1.0->langchain-core<0.2.0,>=0.1.46->langchain-openai) (3.10.1)\n",
      "Requirement already satisfied: urllib3<1.27,>=1.21.1 in c:\\users\\chris\\anaconda3\\lib\\site-packages (from requests>=2.26.0->tiktoken<1,>=0.5.2->langchain-openai) (1.26.15)\n",
      "Requirement already satisfied: charset-normalizer<4,>=2 in c:\\users\\chris\\anaconda3\\lib\\site-packages (from requests>=2.26.0->tiktoken<1,>=0.5.2->langchain-openai) (2.0.4)\n",
      "Requirement already satisfied: colorama in c:\\users\\chris\\anaconda3\\lib\\site-packages (from tqdm>4->openai<2.0.0,>=1.10.0->langchain-openai) (0.4.6)\n",
      "Requirement already satisfied: h11<0.15,>=0.13 in c:\\users\\chris\\anaconda3\\lib\\site-packages (from httpcore<0.17.0,>=0.15.0->httpx<1,>=0.23.0->openai<2.0.0,>=1.10.0->langchain-openai) (0.14.0)\n",
      "Installing collected packages: langchain-openai\n",
      "  Attempting uninstall: langchain-openai\n",
      "    Found existing installation: langchain-openai 0.1.3\n",
      "    Uninstalling langchain-openai-0.1.3:\n",
      "      Successfully uninstalled langchain-openai-0.1.3\n",
      "Successfully installed langchain-openai-0.1.4\n",
      "Requirement already satisfied: neo4j in c:\\users\\chris\\anaconda3\\lib\\site-packages (5.19.0)\n",
      "Collecting neo4j\n",
      "  Downloading neo4j-5.20.0.tar.gz (202 kB)\n",
      "     ---------------------------------------- 0.0/203.0 kB ? eta -:--:--\n",
      "     --------------- ----------------------- 81.9/203.0 kB 2.3 MB/s eta 0:00:01\n",
      "     ------------------------------------ - 194.6/203.0 kB 2.4 MB/s eta 0:00:01\n",
      "     -------------------------------------- 203.0/203.0 kB 2.1 MB/s eta 0:00:00\n",
      "  Installing build dependencies: started\n",
      "  Installing build dependencies: finished with status 'done'\n",
      "  Getting requirements to build wheel: started\n",
      "  Getting requirements to build wheel: finished with status 'done'\n",
      "  Installing backend dependencies: started\n",
      "  Installing backend dependencies: finished with status 'done'\n",
      "  Preparing metadata (pyproject.toml): started\n",
      "  Preparing metadata (pyproject.toml): finished with status 'done'\n",
      "Requirement already satisfied: pytz in c:\\users\\chris\\anaconda3\\lib\\site-packages (from neo4j) (2022.7)\n",
      "Building wheels for collected packages: neo4j\n",
      "  Building wheel for neo4j (pyproject.toml): started\n",
      "  Building wheel for neo4j (pyproject.toml): finished with status 'done'\n",
      "  Created wheel for neo4j: filename=neo4j-5.20.0-py3-none-any.whl size=280801 sha256=8f75a80404231567fe4a3838037bab6c083a903e2f1ffdce0b8969265c0113ae\n",
      "  Stored in directory: c:\\users\\chris\\appdata\\local\\pip\\cache\\wheels\\4a\\3a\\92\\4986086be81254277d88266a6808c1ff92138344c0a49c746d\n",
      "Successfully built neo4j\n",
      "Installing collected packages: neo4j\n",
      "  Attempting uninstall: neo4j\n",
      "    Found existing installation: neo4j 5.19.0\n",
      "    Uninstalling neo4j-5.19.0:\n",
      "      Successfully uninstalled neo4j-5.19.0\n",
      "Successfully installed neo4j-5.20.0\n",
      "Requirement already satisfied: openai in c:\\users\\chris\\anaconda3\\lib\\site-packages (1.23.6)\n",
      "Requirement already satisfied: typing-extensions<5,>=4.7 in c:\\users\\chris\\anaconda3\\lib\\site-packages (from openai) (4.11.0)\n",
      "Requirement already satisfied: anyio<5,>=3.5.0 in c:\\users\\chris\\anaconda3\\lib\\site-packages (from openai) (3.5.0)\n",
      "Requirement already satisfied: sniffio in c:\\users\\chris\\anaconda3\\lib\\site-packages (from openai) (1.2.0)\n",
      "Requirement already satisfied: tqdm>4 in c:\\users\\chris\\anaconda3\\lib\\site-packages (from openai) (4.65.0)\n",
      "Requirement already satisfied: distro<2,>=1.7.0 in c:\\users\\chris\\anaconda3\\lib\\site-packages (from openai) (1.9.0)\n",
      "Requirement already satisfied: httpx<1,>=0.23.0 in c:\\users\\chris\\anaconda3\\lib\\site-packages (from openai) (0.23.3)\n",
      "Requirement already satisfied: pydantic<3,>=1.9.0 in c:\\users\\chris\\anaconda3\\lib\\site-packages (from openai) (1.10.11)\n",
      "Requirement already satisfied: idna>=2.8 in c:\\users\\chris\\anaconda3\\lib\\site-packages (from anyio<5,>=3.5.0->openai) (3.4)\n",
      "Requirement already satisfied: httpcore<0.17.0,>=0.15.0 in c:\\users\\chris\\anaconda3\\lib\\site-packages (from httpx<1,>=0.23.0->openai) (0.16.3)\n",
      "Requirement already satisfied: rfc3986[idna2008]<2,>=1.3 in c:\\users\\chris\\anaconda3\\lib\\site-packages (from httpx<1,>=0.23.0->openai) (1.5.0)\n",
      "Requirement already satisfied: certifi in c:\\users\\chris\\anaconda3\\lib\\site-packages (from httpx<1,>=0.23.0->openai) (2022.12.7)\n",
      "Requirement already satisfied: colorama in c:\\users\\chris\\anaconda3\\lib\\site-packages (from tqdm>4->openai) (0.4.6)\n",
      "Requirement already satisfied: h11<0.15,>=0.13 in c:\\users\\chris\\anaconda3\\lib\\site-packages (from httpcore<0.17.0,>=0.15.0->httpx<1,>=0.23.0->openai) (0.14.0)\n",
      "Requirement already satisfied: tiktoken in c:\\users\\chris\\anaconda3\\lib\\site-packages (0.6.0)\n",
      "Requirement already satisfied: requests>=2.26.0 in c:\\users\\chris\\anaconda3\\lib\\site-packages (from tiktoken) (2.29.0)\n",
      "Requirement already satisfied: regex>=2022.1.18 in c:\\users\\chris\\anaconda3\\lib\\site-packages (from tiktoken) (2022.7.9)\n",
      "Requirement already satisfied: urllib3<1.27,>=1.21.1 in c:\\users\\chris\\anaconda3\\lib\\site-packages (from requests>=2.26.0->tiktoken) (1.26.15)\n",
      "Requirement already satisfied: idna<4,>=2.5 in c:\\users\\chris\\anaconda3\\lib\\site-packages (from requests>=2.26.0->tiktoken) (3.4)\n",
      "Requirement already satisfied: certifi>=2017.4.17 in c:\\users\\chris\\anaconda3\\lib\\site-packages (from requests>=2.26.0->tiktoken) (2022.12.7)\n",
      "Requirement already satisfied: charset-normalizer<4,>=2 in c:\\users\\chris\\anaconda3\\lib\\site-packages (from requests>=2.26.0->tiktoken) (2.0.4)\n",
      "Requirement already satisfied: graphdatascience in c:\\users\\chris\\anaconda3\\lib\\site-packages (1.10)\n",
      "Requirement already satisfied: tqdm<5.0,>=4.0 in c:\\users\\chris\\anaconda3\\lib\\site-packages (from graphdatascience) (4.65.0)\n",
      "Requirement already satisfied: textdistance<5.0,>=4.0 in c:\\users\\chris\\anaconda3\\lib\\site-packages (from graphdatascience) (4.2.1)\n",
      "Requirement already satisfied: multimethod<2.0,>=1.0 in c:\\users\\chris\\anaconda3\\lib\\site-packages (from graphdatascience) (1.11.2)\n",
      "Requirement already satisfied: requests in c:\\users\\chris\\anaconda3\\lib\\site-packages (from graphdatascience) (2.29.0)\n",
      "Requirement already satisfied: neo4j<6.0,>=4.4.2 in c:\\users\\chris\\anaconda3\\lib\\site-packages (from graphdatascience) (5.20.0)\n",
      "Requirement already satisfied: typing-extensions<5.0,>=4.0 in c:\\users\\chris\\anaconda3\\lib\\site-packages (from graphdatascience) (4.11.0)\n",
      "Requirement already satisfied: pandas<3.0,>=1.0 in c:\\users\\chris\\anaconda3\\lib\\site-packages (from graphdatascience) (1.5.3)\n",
      "Requirement already satisfied: pyarrow<16.0,>=11.0 in c:\\users\\chris\\anaconda3\\lib\\site-packages (from graphdatascience) (11.0.0)\n",
      "Requirement already satisfied: pytz in c:\\users\\chris\\anaconda3\\lib\\site-packages (from neo4j<6.0,>=4.4.2->graphdatascience) (2022.7)\n",
      "Requirement already satisfied: numpy>=1.20.3 in c:\\users\\chris\\anaconda3\\lib\\site-packages (from pandas<3.0,>=1.0->graphdatascience) (1.23.5)\n",
      "Requirement already satisfied: python-dateutil>=2.8.1 in c:\\users\\chris\\anaconda3\\lib\\site-packages (from pandas<3.0,>=1.0->graphdatascience) (2.8.2)\n",
      "Requirement already satisfied: colorama in c:\\users\\chris\\anaconda3\\lib\\site-packages (from tqdm<5.0,>=4.0->graphdatascience) (0.4.6)\n",
      "Requirement already satisfied: charset-normalizer<4,>=2 in c:\\users\\chris\\anaconda3\\lib\\site-packages (from requests->graphdatascience) (2.0.4)\n",
      "Requirement already satisfied: urllib3<1.27,>=1.21.1 in c:\\users\\chris\\anaconda3\\lib\\site-packages (from requests->graphdatascience) (1.26.15)\n",
      "Requirement already satisfied: certifi>=2017.4.17 in c:\\users\\chris\\anaconda3\\lib\\site-packages (from requests->graphdatascience) (2022.12.7)\n",
      "Requirement already satisfied: idna<4,>=2.5 in c:\\users\\chris\\anaconda3\\lib\\site-packages (from requests->graphdatascience) (3.4)\n",
      "Requirement already satisfied: six>=1.5 in c:\\users\\chris\\anaconda3\\lib\\site-packages (from python-dateutil>=2.8.1->pandas<3.0,>=1.0->graphdatascience) (1.16.0)\n"
     ]
    }
   ],
   "source": [
    "!pip install typing-inspect==0.8.0 typing_extensions==4.5.0\n",
    "!pip install pydantic -U\n",
    "!pip install pydantic==1.10.11\n",
    "!pip install langchain --upgrade\n",
    "!pip install -U langchain-openai\n",
    "!pip install -U neo4j\n",
    "!pip install -U openai\n",
    "!pip install -U tiktoken\n",
    "!pip install -U graphdatascience\n"
   ]
  },
  {
   "cell_type": "code",
   "execution_count": 2,
   "metadata": {
    "id": "6nFa2d9OoQQS"
   },
   "outputs": [],
   "source": [
    "import os\n",
    "import langchain\n",
    "from langchain.graphs import Neo4jGraph\n",
    "from langchain.vectorstores.neo4j_vector import Neo4jVector\n",
    "from langchain.embeddings.openai import OpenAIEmbeddings\n",
    "from langchain_openai import ChatOpenAI\n",
    "from langchain.chains import GraphCypherQAChain\n",
    "from neo4j import GraphDatabase\n",
    "    \n",
    "url = \"bolt://localhost:7687\"\n",
    "username =\"neo4j\"\n",
    "password = \"password\"\n",
    "#os.environ['OPENAI_API_KEY'] = \"<removed>\"\n",
    "\n",
    "graph = Neo4jGraph(\n",
    "    url=url,\n",
    "    username=username,\n",
    "    password=password\n",
    ")\n",
    "\n",
    "driver = GraphDatabase.driver(url, auth=(username,password))\n",
    "\n",
    "graph.refresh_schema()\n",
    "\n",
    "cypher_chain = GraphCypherQAChain.from_llm(\n",
    "    cypher_llm = ChatOpenAI(temperature=0, model_name='gpt-4'),\n",
    "    qa_llm = ChatOpenAI(temperature=0, model_name='gpt-3.5-turbo'), graph=graph, verbose=True,\n",
    ")"
   ]
  },
  {
   "cell_type": "code",
   "execution_count": 135,
   "metadata": {},
   "outputs": [
    {
     "name": "stdout",
     "output_type": "stream",
     "text": [
      "EagerResult(records=[<Record p=<Node element_id='4:6b5a7670-0efe-41ee-b146-d26e52a9a983:0' labels=frozenset({'Patient'}) properties={'HEALTHCARE_EXPENSES': 50725.19, 'LAST': 'Langosh790', 'DOB': '1999-03-13', 'GENDER': 'F', 'ID': '2703570e-f634-d4cc-13db-2ae14e19ae59', 'FIRST': 'Norma469'}>>], summary=<neo4j._work.summary.ResultSummary object at 0x0000023C53EC34F0>, keys=['p'])\n"
     ]
    }
   ],
   "source": [
    "print(driver.execute_query(\"MATCH (p:Patient) RETURN p LIMIT 1\"))"
   ]
  },
  {
   "cell_type": "code",
   "execution_count": 33,
   "metadata": {},
   "outputs": [
    {
     "name": "stdout",
     "output_type": "stream",
     "text": [
      "\n",
      "\n",
      "\u001b[1m> Entering new GraphCypherQAChain chain...\u001b[0m\n",
      "Generated Cypher:\n",
      "\u001b[32;1m\u001b[1;3mMATCH (p:Patient) RETURN COUNT(p)\u001b[0m\n",
      "Full Context:\n",
      "\u001b[32;1m\u001b[1;3m[{'COUNT(p)': 121}]\u001b[0m\n",
      "\n",
      "\u001b[1m> Finished chain.\u001b[0m\n"
     ]
    },
    {
     "data": {
      "text/plain": [
       "{'query': 'How many Patients are there?', 'result': 'There are 121 Patients.'}"
      ]
     },
     "execution_count": 33,
     "metadata": {},
     "output_type": "execute_result"
    }
   ],
   "source": [
    "cypher_chain.invoke(\"How many Patients are there?\")"
   ]
  },
  {
   "cell_type": "code",
   "execution_count": 30,
   "metadata": {
    "colab": {
     "base_uri": "https://localhost:8080/",
     "height": 192
    },
    "id": "xlO9Y4psbGr3",
    "outputId": "23ffe087-6006-4d9e-d1af-97f6e5c99e27"
   },
   "outputs": [
    {
     "name": "stdout",
     "output_type": "stream",
     "text": [
      "\n",
      "\n",
      "\u001b[1m> Entering new GraphCypherQAChain chain...\u001b[0m\n",
      "Generated Cypher:\n",
      "\u001b[32;1m\u001b[1;3mMATCH (p:Provider) RETURN COUNT(p)\u001b[0m\n",
      "Full Context:\n",
      "\u001b[32;1m\u001b[1;3m[{'COUNT(p)': 279}]\u001b[0m\n",
      "\n",
      "\u001b[1m> Finished chain.\u001b[0m\n"
     ]
    },
    {
     "data": {
      "text/plain": [
       "{'query': 'How many Providers are there?',\n",
       " 'result': 'There are 279 Providers.'}"
      ]
     },
     "execution_count": 30,
     "metadata": {},
     "output_type": "execute_result"
    }
   ],
   "source": [
    "cypher_chain.invoke(\"How many Providers are there?\")"
   ]
  },
  {
   "cell_type": "code",
   "execution_count": 32,
   "metadata": {},
   "outputs": [
    {
     "name": "stdout",
     "output_type": "stream",
     "text": [
      "\n",
      "\n",
      "\u001b[1m> Entering new GraphCypherQAChain chain...\u001b[0m\n",
      "Generated Cypher:\n",
      "\u001b[32;1m\u001b[1;3mMATCH (e:Encounter) RETURN COUNT(e)\u001b[0m\n",
      "Full Context:\n",
      "\u001b[32;1m\u001b[1;3m[{'COUNT(e)': 11987}]\u001b[0m\n",
      "\n",
      "\u001b[1m> Finished chain.\u001b[0m\n"
     ]
    },
    {
     "data": {
      "text/plain": [
       "{'query': 'How many Encounters are there?',\n",
       " 'result': 'There are 11987 Encounters.'}"
      ]
     },
     "execution_count": 32,
     "metadata": {},
     "output_type": "execute_result"
    }
   ],
   "source": [
    "cypher_chain.invoke(\"How many Encounters are there?\")"
   ]
  },
  {
   "cell_type": "code",
   "execution_count": 29,
   "metadata": {
    "colab": {
     "base_uri": "https://localhost:8080/",
     "height": 209
    },
    "id": "tNzaOY5WbqOa",
    "outputId": "20ce2ea9-c8c0-4dd4-8d47-029b534b6454"
   },
   "outputs": [
    {
     "name": "stdout",
     "output_type": "stream",
     "text": [
      "\n",
      "\n",
      "\u001b[1m> Entering new GraphCypherQAChain chain...\u001b[0m\n",
      "Generated Cypher:\n",
      "\u001b[32;1m\u001b[1;3mMATCH (e:Encounter)\n",
      "RETURN SUM(e.BASE_ENCOUNTER_COST) AS TotalBaseCost\u001b[0m\n",
      "Full Context:\n",
      "\u001b[32;1m\u001b[1;3m[{'TotalBaseCost': 1241311.1900002102}]\u001b[0m\n",
      "\n",
      "\u001b[1m> Finished chain.\u001b[0m\n"
     ]
    },
    {
     "data": {
      "text/plain": [
       "{'query': 'What is the total base cost across all encounters?',\n",
       " 'result': 'The total base cost across all encounters is 1241311.1900002102.'}"
      ]
     },
     "execution_count": 29,
     "metadata": {},
     "output_type": "execute_result"
    }
   ],
   "source": [
    "cypher_chain.invoke(\"What is the total base cost across all encounters?\")"
   ]
  },
  {
   "cell_type": "code",
   "execution_count": 5,
   "metadata": {
    "colab": {
     "base_uri": "https://localhost:8080/",
     "height": 244
    },
    "id": "u_vyGwH7bQff",
    "outputId": "9d7b501a-5d29-490b-c4fb-9951d4da9dd4"
   },
   "outputs": [
    {
     "name": "stdout",
     "output_type": "stream",
     "text": [
      "\n",
      "\n",
      "\u001b[1m> Entering new GraphCypherQAChain chain...\u001b[0m\n",
      "Generated Cypher:\n",
      "\u001b[32;1m\u001b[1;3mMATCH (p:Provider)-[:Treated]->(e:Encounter)\n",
      "RETURN p.NAME, COUNT(e) AS Encounters_Treated\n",
      "ORDER BY Encounters_Treated DESC\n",
      "LIMIT 1\u001b[0m\n",
      "Full Context:\n",
      "\u001b[32;1m\u001b[1;3m[{'p.NAME': 'Rudolf736 Vandervort697', 'Encounters_Treated': 812}]\u001b[0m\n",
      "\n",
      "\u001b[1m> Finished chain.\u001b[0m\n"
     ]
    },
    {
     "data": {
      "text/plain": [
       "{'query': 'Which provider treated the most encounters?',\n",
       " 'result': 'Rudolf736 Vandervort697 treated 812 encounters.'}"
      ]
     },
     "execution_count": 5,
     "metadata": {},
     "output_type": "execute_result"
    }
   ],
   "source": [
    "cypher_chain.invoke(\"Which provider treated the most encounters?\")"
   ]
  },
  {
   "cell_type": "code",
   "execution_count": 6,
   "metadata": {
    "colab": {
     "base_uri": "https://localhost:8080/",
     "height": 264
    },
    "id": "OQNcBkc0gKa1",
    "outputId": "3eaa63c1-5643-40a3-a7d7-97ed1f55074e"
   },
   "outputs": [
    {
     "name": "stdout",
     "output_type": "stream",
     "text": [
      "\n",
      "\n",
      "\u001b[1m> Entering new GraphCypherQAChain chain...\u001b[0m\n",
      "Generated Cypher:\n",
      "\u001b[32;1m\u001b[1;3mMATCH (p:Provider {NAME: \"Rudolf736 Vandervort697\"})-[:Treated]->(e:Encounter)-[:Had]->(pr:Procedure)\n",
      "RETURN pr.DESCRIPTION, COUNT(*) AS count\n",
      "ORDER BY count DESC\n",
      "LIMIT 5\u001b[0m\n",
      "Full Context:\n",
      "\u001b[32;1m\u001b[1;3m[{'pr.DESCRIPTION': 'Renal dialysis (procedure)', 'count': 566}, {'pr.DESCRIPTION': 'Assessment of health and social care needs (procedure)', 'count': 65}, {'pr.DESCRIPTION': 'Assessment of substance use (procedure)', 'count': 49}, {'pr.DESCRIPTION': 'Depression screening (procedure)', 'count': 49}, {'pr.DESCRIPTION': 'Medication Reconciliation (procedure)', 'count': 48}]\u001b[0m\n",
      "\n",
      "\u001b[1m> Finished chain.\u001b[0m\n"
     ]
    },
    {
     "data": {
      "text/plain": [
       "{'query': 'What are the top 5 procedures performed by Rudolf736 Vandervort697',\n",
       " 'result': 'The top 5 procedures performed by Rudolf736 Vandervort697 are Renal dialysis, Assessment of health and social care needs, Assessment of substance use, Depression screening, and Medication Reconciliation.'}"
      ]
     },
     "execution_count": 6,
     "metadata": {},
     "output_type": "execute_result"
    }
   ],
   "source": [
    "cypher_chain.invoke(\"What are the top 5 procedures performed by Rudolf736 Vandervort697\")"
   ]
  },
  {
   "cell_type": "code",
   "execution_count": 7,
   "metadata": {
    "colab": {
     "base_uri": "https://localhost:8080/",
     "height": 244
    },
    "id": "c2tjRShSgjsz",
    "outputId": "c21d45a0-d8c1-4e2c-80fc-884b3e90b8d5"
   },
   "outputs": [
    {
     "name": "stdout",
     "output_type": "stream",
     "text": [
      "\n",
      "\n",
      "\u001b[1m> Entering new GraphCypherQAChain chain...\u001b[0m\n",
      "Generated Cypher:\n",
      "\u001b[32;1m\u001b[1;3mMATCH (p:Patient)-[:Had]->(e:Encounter)\n",
      "RETURN p.FIRST, p.LAST, COUNT(e) AS Care_Needed\n",
      "ORDER BY Care_Needed DESC\n",
      "LIMIT 1\u001b[0m\n",
      "Full Context:\n",
      "\u001b[32;1m\u001b[1;3m[{'p.FIRST': 'Margart214', 'p.LAST': 'Bogisich202', 'Care_Needed': 754}]\u001b[0m\n",
      "\n",
      "\u001b[1m> Finished chain.\u001b[0m\n"
     ]
    },
    {
     "data": {
      "text/plain": [
       "{'query': 'What is the name of the patient that needed the most care?',\n",
       " 'result': 'Margart214 Bogisich202'}"
      ]
     },
     "execution_count": 7,
     "metadata": {},
     "output_type": "execute_result"
    }
   ],
   "source": [
    "cypher_chain.invoke(\"What is the name of the patient that needed the most care?\")"
   ]
  },
  {
   "cell_type": "code",
   "execution_count": 8,
   "metadata": {
    "colab": {
     "base_uri": "https://localhost:8080/",
     "height": 229
    },
    "id": "ZzH4h95rhhd_",
    "outputId": "5e21f84d-dfd5-4db3-f30c-c4f67da1c81e"
   },
   "outputs": [
    {
     "name": "stdout",
     "output_type": "stream",
     "text": [
      "\n",
      "\n",
      "\u001b[1m> Entering new GraphCypherQAChain chain...\u001b[0m\n",
      "Generated Cypher:\n",
      "\u001b[32;1m\u001b[1;3mMATCH (p:Patient {FIRST: 'Margart214', LAST: 'Bogisich202'})-[:Has]->(c:Condition)\n",
      "RETURN c.DESCRIPTION\u001b[0m\n",
      "Full Context:\n",
      "\u001b[32;1m\u001b[1;3m[{'c.DESCRIPTION': 'Severe anxiety (panic) (finding)'}, {'c.DESCRIPTION': 'Part-time employment (finding)'}, {'c.DESCRIPTION': 'Proteinuria due to type 2 diabetes mellitus (disorder)'}, {'c.DESCRIPTION': 'Not in labor force (finding)'}, {'c.DESCRIPTION': 'Social isolation (finding)'}, {'c.DESCRIPTION': 'Victim of intimate partner abuse (finding)'}, {'c.DESCRIPTION': 'Stress (finding)'}, {'c.DESCRIPTION': 'Viral sinusitis (disorder)'}, {'c.DESCRIPTION': 'Essential hypertension (disorder)'}, {'c.DESCRIPTION': 'Chronic kidney disease stage 2 (disorder)'}]\u001b[0m\n",
      "\n",
      "\u001b[1m> Finished chain.\u001b[0m\n"
     ]
    },
    {
     "data": {
      "text/plain": [
       "{'query': \"Provide a list of Margart214 Bogisich202's conditions\",\n",
       " 'result': 'Severe anxiety (panic), Part-time employment, Proteinuria due to type 2 diabetes mellitus, Not in labor force, Social isolation, Victim of intimate partner abuse, Stress, Viral sinusitis, Essential hypertension, Chronic kidney disease stage 2.'}"
      ]
     },
     "execution_count": 8,
     "metadata": {},
     "output_type": "execute_result"
    }
   ],
   "source": [
    "cypher_chain.invoke(\"Provide a list of Margart214 Bogisich202's conditions\")"
   ]
  },
  {
   "cell_type": "code",
   "execution_count": 9,
   "metadata": {},
   "outputs": [
    {
     "name": "stdout",
     "output_type": "stream",
     "text": [
      "\n",
      "\n",
      "\u001b[1m> Entering new GraphCypherQAChain chain...\u001b[0m\n",
      "Generated Cypher:\n",
      "\u001b[32;1m\u001b[1;3mMATCH (p:Patient {FIRST: 'Luanne915', LAST: 'Veum823'})-[:Has]->(a:Allergies) RETURN a.DESCRIPTION\u001b[0m\n",
      "Full Context:\n",
      "\u001b[32;1m\u001b[1;3m[{'a.DESCRIPTION': 'Allergy to substance (finding)'}, {'a.DESCRIPTION': 'Mold (organism)'}, {'a.DESCRIPTION': 'House dust mite (organism)'}, {'a.DESCRIPTION': 'Animal dander (substance)'}, {'a.DESCRIPTION': 'Grass pollen (substance)'}, {'a.DESCRIPTION': 'Aspirin'}, {'a.DESCRIPTION': 'Soy bean'}]\u001b[0m\n",
      "\n",
      "\u001b[1m> Finished chain.\u001b[0m\n"
     ]
    },
    {
     "data": {
      "text/plain": [
       "{'query': \"Provide a list of Luanne915 Veum823's allergies\",\n",
       " 'result': 'Luanne915 Veum823 is allergic to Mold, House dust mite, Animal dander, Grass pollen, Aspirin, and Soy bean.'}"
      ]
     },
     "execution_count": 9,
     "metadata": {},
     "output_type": "execute_result"
    }
   ],
   "source": [
    "cypher_chain.invoke(\"Provide a list of Luanne915 Veum823's allergies\")"
   ]
  },
  {
   "cell_type": "code",
   "execution_count": 10,
   "metadata": {
    "colab": {
     "base_uri": "https://localhost:8080/",
     "height": 264
    },
    "id": "VYIInM7xfSNb",
    "outputId": "f671102f-46b8-4c7f-a917-3231777361d3"
   },
   "outputs": [
    {
     "name": "stdout",
     "output_type": "stream",
     "text": [
      "\n",
      "\n",
      "\u001b[1m> Entering new GraphCypherQAChain chain...\u001b[0m\n",
      "Generated Cypher:\n",
      "\u001b[32;1m\u001b[1;3mMATCH (p:Patient {FIRST: 'Margart214', LAST: 'Bogisich202'})-[:Had]->(e:Encounter)-[:Had]->(o:Observation)\n",
      "RETURN o\n",
      "ORDER BY o.DATE DESC\n",
      "LIMIT 1\u001b[0m\n",
      "Full Context:\n",
      "\u001b[32;1m\u001b[1;3m[{'o': {'DATE': neo4j.time.DateTime(2024, 3, 27, 20, 51, 40, 0, tzinfo=<UTC>), 'CODE': '74006-8', 'ENCOUNTER': '3c51732a-078e-e1d1-33bf-bc6d1bcb548c', 'DESCRIPTION': 'Weight difference [Mass difference] --pre dialysis - post dialysis', 'VALUE': '4.7'}}]\u001b[0m\n",
      "\n",
      "\u001b[1m> Finished chain.\u001b[0m\n"
     ]
    },
    {
     "data": {
      "text/plain": [
       "{'query': \"What were Margart214 Bogisich202's most recent observations\",\n",
       " 'result': 'The most recent observation for Margart214 Bogisich202 was a Weight difference [Mass difference] of 4.7 pre dialysis - post dialysis on March 27, 2024 at 8:51:40 PM.'}"
      ]
     },
     "execution_count": 10,
     "metadata": {},
     "output_type": "execute_result"
    }
   ],
   "source": [
    "cypher_chain.invoke(\"What were Margart214 Bogisich202's most recent observations\")"
   ]
  },
  {
   "cell_type": "code",
   "execution_count": 11,
   "metadata": {
    "colab": {
     "base_uri": "https://localhost:8080/",
     "height": 212
    },
    "id": "LjL7yBHjbx9c",
    "outputId": "e9589d0e-6807-4453-9ff7-2c9baa80dccc"
   },
   "outputs": [
    {
     "name": "stdout",
     "output_type": "stream",
     "text": [
      "\n",
      "\n",
      "\u001b[1m> Entering new GraphCypherQAChain chain...\u001b[0m\n",
      "Generated Cypher:\n",
      "\u001b[32;1m\u001b[1;3mMATCH (p:Patient)-[:Has]->(c:Condition) WHERE p.DOD IS NOT NULL RETURN c.DESCRIPTION, COUNT(*) AS frequency ORDER BY frequency DESC LIMIT 10;\u001b[0m\n",
      "Full Context:\n",
      "\u001b[32;1m\u001b[1;3m[{'c.DESCRIPTION': 'Medication review due (situation)', 'frequency': 21}, {'c.DESCRIPTION': 'Stress (finding)', 'frequency': 18}, {'c.DESCRIPTION': 'Full-time employment (finding)', 'frequency': 18}, {'c.DESCRIPTION': 'Part-time employment (finding)', 'frequency': 17}, {'c.DESCRIPTION': 'Not in labor force (finding)', 'frequency': 16}, {'c.DESCRIPTION': 'Received higher education (finding)', 'frequency': 15}, {'c.DESCRIPTION': 'Reports of violence in the environment (finding)', 'frequency': 14}, {'c.DESCRIPTION': 'Social isolation (finding)', 'frequency': 14}, {'c.DESCRIPTION': 'Limited social contact (finding)', 'frequency': 13}, {'c.DESCRIPTION': 'Anemia (disorder)', 'frequency': 13}]\u001b[0m\n",
      "\n",
      "\u001b[1m> Finished chain.\u001b[0m\n"
     ]
    },
    {
     "data": {
      "text/plain": [
       "{'query': 'Patients with which conditions are most likely to expire',\n",
       " 'result': 'Patients with Anemia (disorder) are most likely to expire.'}"
      ]
     },
     "execution_count": 11,
     "metadata": {},
     "output_type": "execute_result"
    }
   ],
   "source": [
    "cypher_chain.invoke(\"Patients with which conditions are most likely to expire\")"
   ]
  },
  {
   "cell_type": "markdown",
   "metadata": {},
   "source": [
    "# Use the GraphDataScience Library to add a KNN similarity graph to our database"
   ]
  },
  {
   "cell_type": "code",
   "execution_count": 138,
   "metadata": {
    "colab": {
     "base_uri": "https://localhost:8080/",
     "height": 634
    },
    "id": "H7f6Lfkbq4zk",
    "outputId": "b41519dc-f2b9-40f0-a597-ce947ad05a36"
   },
   "outputs": [],
   "source": [
    "from graphdatascience import GraphDataScience\n",
    "username =\"neo4j\"\n",
    "local_pass = \"password\"\n",
    "# Use Neo4j URI and credentials according to your setup\n",
    "gds = GraphDataScience(\"bolt://localhost:7687\", auth=(username,local_pass))"
   ]
  },
  {
   "cell_type": "code",
   "execution_count": 139,
   "metadata": {
    "colab": {
     "base_uri": "https://localhost:8080/",
     "height": 211
    },
    "id": "CcubSWpHkx97",
    "outputId": "49e94188-e9d8-4782-bbd9-9dbc508972a5"
   },
   "outputs": [
    {
     "name": "stdout",
     "output_type": "stream",
     "text": [
      "The projection took 319 ms\n",
      "Graph 'patient-graph' node count: 12713\n",
      "Graph 'patient-graph' node labels: ['Condition', 'Medication', 'Encounter', 'Patient', 'Provider']\n",
      "Relationships produced: 25426\n",
      "Nodes compared: 12713\n",
      "Mean similarity: 0.9766138740370915\n"
     ]
    }
   ],
   "source": [
    "# Use this code to create a graphdatascience graph in the db (only needed once)\n",
    "\n",
    "node_projection = {\"Patient\": {\"properties\": [\"HEALTHCARE_EXPENSES\"]},\n",
    "                   \"Condition\": {\"properties\": []},\n",
    "                   \"Encounter\": {\"properties\": [\"BASE_ENCOUNTER_COST\"]},\n",
    "                   \"Medication\": {\"properties\": [\"BASE_COST\"]},\n",
    "                   \"Provider\": {\"properties\": []}}\n",
    "relationship_projection = {\"Has\": {\"orientation\": \"UNDIRECTED\"},\"Treated\": {\"orientation\": \"UNDIRECTED\"},\"Had\": {\"orientation\": \"UNDIRECTED\"}}\n",
    "\n",
    "G, result = gds.graph.project(\"patient-graph\", node_projection, relationship_projection)\n",
    "\n",
    "print(f\"The projection took {result['projectMillis']} ms\")\n",
    "\n",
    "result = gds.fastRP.mutate(\n",
    "    G,\n",
    "    mutateProperty=\"embedding\",\n",
    "    randomSeed=29,\n",
    "    embeddingDimension=16,\n",
    "    iterationWeights=[0.8, 1, 1, 1],\n",
    ")\n",
    "\n",
    "\n",
    "print(f\"Graph '{G.name()}' node count: {G.node_count()}\")\n",
    "print(f\"Graph '{G.name()}' node labels: {G.node_labels()}\")\n",
    "\n",
    "# Run kNN and write back to db\n",
    "result = gds.knn.write(\n",
    "    G,\n",
    "    topK=2,\n",
    "    nodeProperties=[\"embedding\"],\n",
    "    randomSeed=29,\n",
    "    concurrency=1,\n",
    "    sampleRate=1.0,\n",
    "    deltaThreshold=0.0,\n",
    "    writeRelationshipType=\"SIMILAR\",\n",
    "    writeProperty=\"score\",\n",
    ")\n",
    "\n",
    "print(f\"Relationships produced: {result['relationshipsWritten']}\")\n",
    "print(f\"Nodes compared: {result['nodesCompared']}\")\n",
    "print(f\"Mean similarity: {result['similarityDistribution']['mean']}\")"
   ]
  },
  {
   "cell_type": "code",
   "execution_count": 114,
   "metadata": {},
   "outputs": [],
   "source": [
    "graph.refresh_schema()"
   ]
  },
  {
   "cell_type": "code",
   "execution_count": 31,
   "metadata": {},
   "outputs": [
    {
     "name": "stdout",
     "output_type": "stream",
     "text": [
      "\n",
      "\n",
      "\u001b[1m> Entering new GraphCypherQAChain chain...\u001b[0m\n",
      "Generated Cypher:\n",
      "\u001b[32;1m\u001b[1;3mMATCH (c1:Condition)-[r:SIMILAR]->(c2:Condition)\n",
      "RETURN c1.DESCRIPTION, c2.DESCRIPTION, r.score\n",
      "ORDER BY r.score DESC\n",
      "LIMIT 10;\u001b[0m\n",
      "Full Context:\n",
      "\u001b[32;1m\u001b[1;3m[{'c1.DESCRIPTION': 'Non-small cell carcinoma of lung  TNM stage 1 (disorder)', 'c2.DESCRIPTION': 'Non-small cell lung cancer (disorder)', 'r.score': 1.0}, {'c1.DESCRIPTION': 'Malignant tumor of colon', 'c2.DESCRIPTION': 'Recurrent rectal polyp', 'r.score': 1.0}, {'c1.DESCRIPTION': 'Recurrent rectal polyp', 'c2.DESCRIPTION': 'Malignant tumor of colon', 'r.score': 1.0}, {'c1.DESCRIPTION': 'Microalbuminuria due to type 2 diabetes mellitus (disorder)', 'c2.DESCRIPTION': 'Chronic kidney disease stage 2 (disorder)', 'r.score': 1.0}, {'c1.DESCRIPTION': 'Whiplash injury to neck', 'c2.DESCRIPTION': 'Injury of neck (disorder)', 'r.score': 1.0}, {'c1.DESCRIPTION': 'Lack of access to transportation (finding)', 'c2.DESCRIPTION': 'Transport problem (finding)', 'r.score': 1.0}, {'c1.DESCRIPTION': 'Transport problem (finding)', 'c2.DESCRIPTION': 'Lack of access to transportation (finding)', 'r.score': 1.0}, {'c1.DESCRIPTION': 'Chronic kidney disease stage 2 (disorder)', 'c2.DESCRIPTION': 'Microalbuminuria due to type 2 diabetes mellitus (disorder)', 'r.score': 1.0}, {'c1.DESCRIPTION': 'Injury of neck (disorder)', 'c2.DESCRIPTION': 'Whiplash injury to neck', 'r.score': 1.0}, {'c1.DESCRIPTION': 'Non-small cell lung cancer (disorder)', 'c2.DESCRIPTION': 'Non-small cell carcinoma of lung  TNM stage 1 (disorder)', 'r.score': 1.0}]\u001b[0m\n",
      "\n",
      "\u001b[1m> Finished chain.\u001b[0m\n",
      "The most similar conditions are:\n",
      "1. Non-small cell carcinoma of lung TNM stage 1 and Non-small cell lung cancer\n",
      "2. Malignant tumor of colon and Recurrent rectal polyp\n",
      "3. Recurrent rectal polyp and Malignant tumor of colon\n",
      "4. Microalbuminuria due to type 2 diabetes mellitus and Chronic kidney disease stage 2\n",
      "5. Whiplash injury to neck and Injury of neck\n",
      "6. Lack of access to transportation and Transport problem\n"
     ]
    }
   ],
   "source": [
    "result = cypher_chain.invoke(\"Which conditions are most similar\")\n",
    "print(result[\"result\"])"
   ]
  },
  {
   "cell_type": "code",
   "execution_count": 20,
   "metadata": {},
   "outputs": [
    {
     "name": "stdout",
     "output_type": "stream",
     "text": [
      "\n",
      "\n",
      "\u001b[1m> Entering new GraphCypherQAChain chain...\u001b[0m\n",
      "Generated Cypher:\n",
      "\u001b[32;1m\u001b[1;3mMATCH (p:Patient)-[:Has]->(c:Condition {DESCRIPTION: 'Prediabetes'}), (p)-[:Taking]->(m:Medication)\n",
      "RETURN m.DESCRIPTION, COUNT(*) AS frequency\n",
      "ORDER BY frequency DESC\u001b[0m\n",
      "Full Context:\n",
      "\u001b[32;1m\u001b[1;3m[{'m.DESCRIPTION': 'amLODIPine 2.5 MG Oral Tablet', 'frequency': 18}, {'m.DESCRIPTION': 'Hydrochlorothiazide 25 MG Oral Tablet', 'frequency': 17}, {'m.DESCRIPTION': 'Acetaminophen 325 MG Oral Tablet', 'frequency': 17}, {'m.DESCRIPTION': 'Nitroglycerin 0.4 MG/ACTUAT Mucosal Spray', 'frequency': 16}, {'m.DESCRIPTION': '24 HR metoprolol succinate 100 MG Extended Release Oral Tablet', 'frequency': 16}, {'m.DESCRIPTION': 'lisinopril 10 MG Oral Tablet', 'frequency': 16}, {'m.DESCRIPTION': 'Clopidogrel 75 MG Oral Tablet', 'frequency': 14}, {'m.DESCRIPTION': 'Naproxen sodium 220 MG Oral Tablet', 'frequency': 14}, {'m.DESCRIPTION': 'Simvastatin 20 MG Oral Tablet', 'frequency': 13}, {'m.DESCRIPTION': 'insulin isophane  human 70 UNT/ML / insulin  regular  human 30 UNT/ML Injectable Suspension [Humulin]', 'frequency': 13}]\u001b[0m\n",
      "\n",
      "\u001b[1m> Finished chain.\u001b[0m\n"
     ]
    },
    {
     "data": {
      "text/plain": [
       "{'query': 'Which medications are most common in patients with Prediabetes?',\n",
       " 'result': 'amLODIPine 2.5 MG Oral Tablet is the most common medication in patients with Prediabetes.'}"
      ]
     },
     "execution_count": 20,
     "metadata": {},
     "output_type": "execute_result"
    }
   ],
   "source": [
    "cypher_chain.invoke(\"Which medications are most common in patients with Prediabetes?\")"
   ]
  },
  {
   "cell_type": "code",
   "execution_count": 21,
   "metadata": {},
   "outputs": [
    {
     "name": "stdout",
     "output_type": "stream",
     "text": [
      "\n",
      "\n",
      "\u001b[1m> Entering new GraphCypherQAChain chain...\u001b[0m\n",
      "Generated Cypher:\n",
      "\u001b[32;1m\u001b[1;3mMATCH (p1:Patient)-[:Taking]->(m:Medication)<-[:Taking]-(p2:Patient), (p1)-[:Has]->(c:Condition)<-[:Has]-(p2)\n",
      "RETURN p1.ID, p2.ID, COUNT(m) AS Shared_Medications, COUNT(c) AS Shared_Conditions\n",
      "ORDER BY Shared_Medications DESC, Shared_Conditions DESC\n",
      "LIMIT 2\u001b[0m\n",
      "Full Context:\n",
      "\u001b[32;1m\u001b[1;3m[{'p1.ID': '0b595f34-417b-c1ca-6e47-5c9bc7d8f58e', 'p2.ID': 'fa5c2948-0731-7bb9-5b00-b6be2409cc99', 'Shared_Medications': 416, 'Shared_Conditions': 416}, {'p1.ID': 'fa5c2948-0731-7bb9-5b00-b6be2409cc99', 'p2.ID': '0b595f34-417b-c1ca-6e47-5c9bc7d8f58e', 'Shared_Medications': 416, 'Shared_Conditions': 416}]\u001b[0m\n",
      "\n",
      "\u001b[1m> Finished chain.\u001b[0m\n"
     ]
    },
    {
     "data": {
      "text/plain": [
       "{'query': 'Which 2 patients have the most similar medications and conditions?',\n",
       " 'result': 'The patients with IDs 0b595f34-417b-c1ca-6e47-5c9bc7d8f58e and fa5c2948-0731-7bb9-5b00-b6be2409cc99 have the most similar medications and conditions.'}"
      ]
     },
     "execution_count": 21,
     "metadata": {},
     "output_type": "execute_result"
    }
   ],
   "source": [
    "cypher_chain.invoke(\"Which 2 patients have the most similar medications and conditions?\")"
   ]
  },
  {
   "cell_type": "code",
   "execution_count": 22,
   "metadata": {},
   "outputs": [
    {
     "name": "stdout",
     "output_type": "stream",
     "text": [
      "\n",
      "\n",
      "\u001b[1m> Entering new GraphCypherQAChain chain...\u001b[0m\n",
      "Generated Cypher:\n",
      "\u001b[32;1m\u001b[1;3mMATCH (p:Patient {ID: '0b595f34-417b-c1ca-6e47-5c9bc7d8f58e'})-[:Taking]->(m:Medication), (p)-[:Has]->(c:Condition)\n",
      "RETURN p.ID as Patient_ID, p.FIRST as First_Name, p.LAST as Last_Name, collect(distinct m.DESCRIPTION) as Medication_History, collect(distinct c.DESCRIPTION) as Condition_History\u001b[0m\n",
      "Full Context:\n",
      "\u001b[32;1m\u001b[1;3m[{'Patient_ID': '0b595f34-417b-c1ca-6e47-5c9bc7d8f58e', 'First_Name': 'Korey682', 'Last_Name': 'Abbott774', 'Medication_History': ['Acetaminophen 325 MG Oral Tablet', '24 HR metoprolol succinate 100 MG Extended Release Oral Tablet', 'Clopidogrel 75 MG Oral Tablet', 'lisinopril 10 MG Oral Tablet', 'insulin isophane  human 70 UNT/ML / insulin  regular  human 30 UNT/ML Injectable Suspension [Humulin]', 'Naproxen sodium 220 MG Oral Tablet', 'Simvastatin 20 MG Oral Tablet', '1 ML tacrolimus 5 MG/ML Injection', '1 ML Epoetin Alfa 4000 UNT/ML Injection [Epogen]', '0.25 ML Leuprolide Acetate 30 MG/ML Prefilled Syringe', '1 ML DOCEtaxel 20 MG/ML Injection', '24 HR Metformin hydrochloride 500 MG Extended Release Oral Tablet', 'Hydrochlorothiazide 25 MG Oral Tablet', 'Nitroglycerin 0.4 MG/ACTUAT Mucosal Spray', 'Acetaminophen 325 MG / HYDROcodone Bitartrate 7.5 MG Oral Tablet', '24 HR tacrolimus 1 MG Extended Release Oral Tablet'], 'Condition_History': ['Served in armed forces (finding)', 'Hyperglycemia (disorder)', 'Chronic kidney disease stage 3 (disorder)', 'Body mass index 30+ - obesity (finding)', 'Received higher education (finding)', 'Medication review due (situation)', 'History of renal transplant (situation)', 'Stress (finding)', 'Anemia (disorder)', 'Prediabetes', 'Chronic kidney disease stage 4 (disorder)', 'Has a criminal record (finding)', 'Unemployed (finding)', 'Viral sinusitis (disorder)', 'End-stage renal disease (disorder)', 'Proteinuria due to type 2 diabetes mellitus (disorder)', 'Fracture of clavicle', 'Lack of access to transportation (finding)', 'Osteoarthritis of knee', 'Not in labor force (finding)', 'Microalbuminuria due to type 2 diabetes mellitus (disorder)', 'Diabetes mellitus type 2 (disorder)', 'Abnormal findings diagnostic imaging heart+coronary circulat (finding)', 'Transport problem (finding)', 'Limited social contact (finding)', 'Chronic kidney disease stage 1 (disorder)', 'Sinusitis (disorder)', 'Metabolic syndrome X (disorder)', 'Reports of violence in the environment (finding)', 'Fracture of bone (disorder)', 'Carcinoma in situ of prostate (disorder)', 'Awaiting transplantation of kidney (situation)', 'Chronic kidney disease stage 2 (disorder)', 'Social isolation (finding)', 'Hypertriglyceridemia (disorder)', 'Ischemic heart disease (disorder)', 'Victim of intimate partner abuse (finding)', 'Acute viral pharyngitis (disorder)', 'Unhealthy alcohol drinking behavior (finding)', 'Neoplasm of prostate', 'Essential hypertension (disorder)', 'Full-time employment (finding)', 'Suspected prostate cancer (situation)', 'Part-time employment (finding)', 'History of coronary artery bypass grafting (situation)', 'Severe anxiety (panic) (finding)', 'Disorder of kidney due to diabetes mellitus (disorder)']}]\u001b[0m\n",
      "\n",
      "\u001b[1m> Finished chain.\u001b[0m\n"
     ]
    },
    {
     "data": {
      "text/plain": [
       "{'query': 'Summarize the medication and condition history of patient 0b595f34-417b-c1ca-6e47-5c9bc7d8f58e',\n",
       " 'result': \"The medication history of patient 0b595f34-417b-c1ca-6e47-5c9bc7d8f58e includes a variety of medications such as Acetaminophen, Metoprolol, Clopidogrel, Lisinopril, Insulin, Naproxen, Simvastatin, Tacrolimus, Epoetin Alfa, Leuprolide Acetate, DOCEtaxel, Metformin, Hydrochlorothiazide, Nitroglycerin, and Hydrocodone Bitartrate. The patient's condition history involves issues like hyperglycemia, chronic kidney disease, obesity, anemia, prediabetes, viral sinusitis, end-stage renal disease, proteinuria, osteoarthritis, diabetes mellitus type 2, metabolic syndrome, ischemic heart disease, hypertension, anxiety, and more.\"}"
      ]
     },
     "execution_count": 22,
     "metadata": {},
     "output_type": "execute_result"
    }
   ],
   "source": [
    "cypher_chain.invoke(\"Summarize the medication and condition history of patient 0b595f34-417b-c1ca-6e47-5c9bc7d8f58e\")"
   ]
  },
  {
   "cell_type": "code",
   "execution_count": 23,
   "metadata": {},
   "outputs": [
    {
     "name": "stdout",
     "output_type": "stream",
     "text": [
      "\n",
      "\n",
      "\u001b[1m> Entering new GraphCypherQAChain chain...\u001b[0m\n",
      "Generated Cypher:\n",
      "\u001b[32;1m\u001b[1;3mMATCH (p:Patient {ID: 'fa5c2948-0731-7bb9-5b00-b6be2409cc99'})-[:Taking]->(m:Medication), (p)-[:Has]->(c:Condition)\n",
      "RETURN p.ID as Patient_ID, p.FIRST as First_Name, p.LAST as Last_Name, collect(distinct m.DESCRIPTION) as Medication_History, collect(distinct c.DESCRIPTION) as Condition_History\u001b[0m\n",
      "Full Context:\n",
      "\u001b[32;1m\u001b[1;3m[{'Patient_ID': 'fa5c2948-0731-7bb9-5b00-b6be2409cc99', 'First_Name': 'Joaquin141', 'Last_Name': 'Roberts511', 'Medication_History': ['0.25 ML Leuprolide Acetate 30 MG/ML Prefilled Syringe', 'Nitroglycerin 0.4 MG/ACTUAT Mucosal Spray', 'Hydrochlorothiazide 25 MG Oral Tablet', 'Clopidogrel 75 MG Oral Tablet', 'lisinopril 10 MG Oral Tablet', 'insulin isophane  human 70 UNT/ML / insulin  regular  human 30 UNT/ML Injectable Suspension [Humulin]', 'amLODIPine 2.5 MG Oral Tablet', '1 ML DOCEtaxel 20 MG/ML Injection', 'PACLitaxel 100 MG Injection', '1 ML tacrolimus 5 MG/ML Injection', 'Naproxen sodium 220 MG Oral Tablet', 'Acetaminophen 325 MG Oral Tablet', '24 HR tacrolimus 1 MG Extended Release Oral Tablet', '24 HR metoprolol succinate 100 MG Extended Release Oral Tablet', 'Amoxicillin 250 MG / Clavulanate 125 MG Oral Tablet', 'Simvastatin 20 MG Oral Tablet', 'Cisplatin 50 MG Injection'], 'Condition_History': ['Carcinoma in situ of prostate (disorder)', 'Chronic kidney disease stage 3 (disorder)', 'Abnormal findings diagnostic imaging heart+coronary circulat (finding)', 'Acute bronchitis (disorder)', 'Microalbuminuria due to type 2 diabetes mellitus (disorder)', 'Chronic kidney disease stage 1 (disorder)', 'Sleep disorder (disorder)', 'Ischemic heart disease (disorder)', 'Disorder of kidney due to diabetes mellitus (disorder)', 'Has a criminal record (finding)', 'Chronic kidney disease stage 2 (disorder)', 'Metabolic syndrome X (disorder)', 'Received higher education (finding)', 'Social isolation (finding)', 'Concussion injury of brain (disorder)', 'Body mass index 30+ - obesity (finding)', 'Viral sinusitis (disorder)', 'Neoplasm of prostate', 'Part-time employment (finding)', 'Limited social contact (finding)', 'Stress (finding)', 'Not in labor force (finding)', 'Obstructive sleep apnea syndrome (disorder)', 'History of renal transplant (situation)', 'Suspected lung cancer (situation)', 'Medication review due (situation)', 'Victim of intimate partner abuse (finding)', 'Non-small cell carcinoma of lung  TNM stage 1 (disorder)', 'Suspected prostate cancer (situation)', 'Full-time employment (finding)', 'Essential hypertension (disorder)', 'Reports of violence in the environment (finding)', 'Served in armed forces (finding)', 'Concussion with no loss of consciousness', 'Proteinuria due to type 2 diabetes mellitus (disorder)', 'Awaiting transplantation of kidney (situation)', 'Non-small cell lung cancer (disorder)', 'Acute viral pharyngitis (disorder)', 'Prediabetes', 'Osteoarthritis of hip', 'Chronic kidney disease stage 4 (disorder)']}]\u001b[0m\n",
      "\n",
      "\u001b[1m> Finished chain.\u001b[0m\n"
     ]
    },
    {
     "data": {
      "text/plain": [
       "{'query': 'Summarize the medication and condition history of patient fa5c2948-0731-7bb9-5b00-b6be2409cc99',\n",
       " 'result': 'The patient with ID fa5c2948-0731-7bb9-5b00-b6be2409cc99 has a medication history that includes various medications such as Leuprolide Acetate, Nitroglycerin, Hydrochlorothiazide, Clopidogrel, lisinopril, insulin, amLODIPine, DOCEtaxel, PACLitaxel, tacrolimus, Naproxen sodium, Acetaminophen, metoprolol succinate, Amoxicillin, Clavulanate, Simvastatin, and Cisplatin. Their condition history involves multiple conditions like Carcinoma in situ of prostate, Chronic kidney disease, Abnormal findings in diagnostic imaging of the heart and coronary circulation, Acute bronchitis, Microalbuminuria due to type 2 diabetes mellitus, Sleep disorder, Ischemic heart disease, and others.'}"
      ]
     },
     "execution_count": 23,
     "metadata": {},
     "output_type": "execute_result"
    }
   ],
   "source": [
    " cypher_chain.invoke(\"Summarize the medication and condition history of patient fa5c2948-0731-7bb9-5b00-b6be2409cc99\")"
   ]
  },
  {
   "cell_type": "code",
   "execution_count": 24,
   "metadata": {},
   "outputs": [
    {
     "name": "stdout",
     "output_type": "stream",
     "text": [
      "\n",
      "\n",
      "\u001b[1m> Entering new GraphCypherQAChain chain...\u001b[0m\n",
      "Generated Cypher:\n",
      "\u001b[32;1m\u001b[1;3mMATCH (p1:Provider)-[:Treated]->(e1:Encounter)-[:Had]->(proc1:Procedure), (p2:Provider)-[:Treated]->(e2:Encounter)-[:Had]->(proc2:Procedure)\n",
      "WHERE proc1.DESCRIPTION = proc2.DESCRIPTION AND p1.NAME <> p2.NAME\n",
      "RETURN p1.NAME, p2.NAME, COUNT(proc1) AS Similar_Procedures\n",
      "ORDER BY Similar_Procedures DESC\n",
      "LIMIT 2\u001b[0m\n",
      "Full Context:\n",
      "\u001b[32;1m\u001b[1;3m[{'p1.NAME': 'Alvin56 Crona259', 'p2.NAME': 'Rudolf736 Vandervort697', 'Similar_Procedures': 357996}, {'p1.NAME': 'Rudolf736 Vandervort697', 'p2.NAME': 'Alvin56 Crona259', 'Similar_Procedures': 357996}]\u001b[0m\n",
      "\n",
      "\u001b[1m> Finished chain.\u001b[0m\n"
     ]
    },
    {
     "data": {
      "text/plain": [
       "{'query': 'Which 2 providers have treated the most similar procedures?',\n",
       " 'result': 'Alvin56 Crona259 and Rudolf736 Vandervort697 have treated the most similar procedures.'}"
      ]
     },
     "execution_count": 24,
     "metadata": {},
     "output_type": "execute_result"
    }
   ],
   "source": [
    " cypher_chain.invoke(\"Which 2 providers have treated the most similar procedures?\")"
   ]
  },
  {
   "cell_type": "code",
   "execution_count": 25,
   "metadata": {},
   "outputs": [
    {
     "name": "stdout",
     "output_type": "stream",
     "text": [
      "\n",
      "\n",
      "\u001b[1m> Entering new GraphCypherQAChain chain...\u001b[0m\n",
      "Generated Cypher:\n",
      "\u001b[32;1m\u001b[1;3mMATCH (p:Provider {NAME: \"Rudolf736 Vandervort697\"})-[:Treated]->(e:Encounter)-[:Had]->(pr:Procedure)\n",
      "RETURN pr.DESCRIPTION, COUNT(*) AS count\n",
      "ORDER BY count DESC\n",
      "LIMIT 5\u001b[0m\n",
      "Full Context:\n",
      "\u001b[32;1m\u001b[1;3m[{'pr.DESCRIPTION': 'Renal dialysis (procedure)', 'count': 566}, {'pr.DESCRIPTION': 'Assessment of health and social care needs (procedure)', 'count': 65}, {'pr.DESCRIPTION': 'Assessment of substance use (procedure)', 'count': 49}, {'pr.DESCRIPTION': 'Depression screening (procedure)', 'count': 49}, {'pr.DESCRIPTION': 'Medication Reconciliation (procedure)', 'count': 48}]\u001b[0m\n",
      "\n",
      "\u001b[1m> Finished chain.\u001b[0m\n"
     ]
    },
    {
     "data": {
      "text/plain": [
       "{'query': 'What are the top 5 procedures performed by Rudolf736 Vandervort697',\n",
       " 'result': 'The top 5 procedures performed by Rudolf736 Vandervort697 are Renal dialysis (procedure), Assessment of health and social care needs (procedure), Assessment of substance use (procedure), Depression screening (procedure), and Medication Reconciliation (procedure).'}"
      ]
     },
     "execution_count": 25,
     "metadata": {},
     "output_type": "execute_result"
    }
   ],
   "source": [
    " cypher_chain.invoke(\"What are the top 5 procedures performed by Rudolf736 Vandervort697\")"
   ]
  },
  {
   "cell_type": "code",
   "execution_count": 26,
   "metadata": {},
   "outputs": [
    {
     "name": "stdout",
     "output_type": "stream",
     "text": [
      "\n",
      "\n",
      "\u001b[1m> Entering new GraphCypherQAChain chain...\u001b[0m\n",
      "Generated Cypher:\n",
      "\u001b[32;1m\u001b[1;3mMATCH (p:Provider {NAME: 'Alvin56 Crona259'})-[:Treated]->(e:Encounter)-[:Had]->(pr:Procedure)\n",
      "RETURN pr.DESCRIPTION, COUNT(*) AS procedure_count\n",
      "ORDER BY procedure_count DESC\n",
      "LIMIT 5\u001b[0m\n",
      "Full Context:\n",
      "\u001b[32;1m\u001b[1;3m[{'pr.DESCRIPTION': 'Renal dialysis (procedure)', 'procedure_count': 625}, {'pr.DESCRIPTION': 'Assessment of health and social care needs (procedure)', 'procedure_count': 17}, {'pr.DESCRIPTION': 'Depression screening (procedure)', 'procedure_count': 15}, {'pr.DESCRIPTION': 'Depression screening using Patient Health Questionnaire Two-Item score (procedure)', 'procedure_count': 15}, {'pr.DESCRIPTION': 'Assessment of substance use (procedure)', 'procedure_count': 11}]\u001b[0m\n",
      "\n",
      "\u001b[1m> Finished chain.\u001b[0m\n"
     ]
    },
    {
     "data": {
      "text/plain": [
       "{'query': 'What are the top 5 procedures performed by Alvin56 Crona259',\n",
       " 'result': 'The top 5 procedures performed by Alvin56 Crona259 are Renal dialysis (procedure), Assessment of health and social care needs (procedure), Depression screening (procedure), Depression screening using Patient Health Questionnaire Two-Item score (procedure), and Assessment of substance use (procedure).'}"
      ]
     },
     "execution_count": 26,
     "metadata": {},
     "output_type": "execute_result"
    }
   ],
   "source": [
    " cypher_chain.invoke(\"What are the top 5 procedures performed by Alvin56 Crona259\")"
   ]
  },
  {
   "cell_type": "code",
   "execution_count": null,
   "metadata": {},
   "outputs": [],
   "source": []
  }
 ],
 "metadata": {
  "colab": {
   "provenance": []
  },
  "kernelspec": {
   "display_name": "Python 3 (ipykernel)",
   "language": "python",
   "name": "python3"
  },
  "language_info": {
   "codemirror_mode": {
    "name": "ipython",
    "version": 3
   },
   "file_extension": ".py",
   "mimetype": "text/x-python",
   "name": "python",
   "nbconvert_exporter": "python",
   "pygments_lexer": "ipython3",
   "version": "3.9.12"
  }
 },
 "nbformat": 4,
 "nbformat_minor": 4
}
